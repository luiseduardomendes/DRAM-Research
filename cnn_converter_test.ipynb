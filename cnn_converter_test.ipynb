{
 "cells": [
  {
   "cell_type": "markdown",
   "metadata": {},
   "source": [
    "# Library Import"
   ]
  },
  {
   "cell_type": "code",
   "execution_count": 13,
   "metadata": {},
   "outputs": [],
   "source": [
    "from dramlib.iss.converter import Converter\n",
    "from dramlib.dramsys.simulation import Dramsys\n",
    "from dramlib.dramsys.parsing import Parser as DRAMParser\n",
    "from dramlib.iss import Parser as ISSParser\n",
    "from dramlib.cnn_conv.cnn_conv import CNNConv\n",
    "from os.path import join, exists\n",
    "from os import makedirs"
   ]
  },
  {
   "cell_type": "markdown",
   "metadata": {},
   "source": [
    "# Experiment Definitions"
   ]
  },
  {
   "cell_type": "code",
   "execution_count": 14,
   "metadata": {},
   "outputs": [],
   "source": [
    "\n",
    "experiment_prefix = 'cnn_conv'\n",
    "app_name = 'yololite'\n",
    "cfg_file = 'ddr4-example.json'"
   ]
  },
  {
   "cell_type": "markdown",
   "metadata": {},
   "source": [
    "# Path Definitions"
   ]
  },
  {
   "cell_type": "code",
   "execution_count": 15,
   "metadata": {},
   "outputs": [],
   "source": [
    "path_to_dramsys = \"/home/luismendes/DRAMSys\"\n",
    "path_to_iss = \"/home/luismendes/zuse_ki_avf/vpro_sys_behavioral/TOOLS/VPRO/ISS\"\n",
    "path_to_cnn_conv = \"/home/luismendes/zuse_ki_avf/vpro_sys_behavioral/APPS/EISV/cnn_converter\"\n",
    "\n",
    "conv = Converter(path_to_dramsys, path_to_iss, app_name)\n",
    "# path_to_log_file = conv.get_output_log_path()\n",
    "\n",
    "cnn_conv = CNNConv(path_to_cnn_conv, app_name)\n",
    "path_to_log_file = cnn_conv.get_log_file_path()\n",
    "\n",
    "iss_parser = ISSParser()\n",
    "clkMhz, n_cluster, n_units, n_lanes = iss_parser.parse_file(path_to_log_file)\n",
    "\n",
    "experiment_state = f'CL{n_cluster}UN{n_units}LN{n_lanes}'\n",
    "\n",
    "path_to_output_log_files = 'output_dramsys_log_' + experiment_prefix\n",
    "path_to_output_parsed_files = \"output_parsed_log_\" + experiment_prefix\n",
    "\n",
    "if not exists(path_to_output_log_files):\n",
    "  makedirs(path_to_output_log_files)\n",
    "\n",
    "if not exists(path_to_output_parsed_files):\n",
    "  makedirs(path_to_output_parsed_files)\n",
    "\n",
    "stl_filename = f\"{experiment_prefix}_trace_{app_name}_{experiment_state}.stl\"\n",
    "path_to_new_trace_file = join(conv.get_path('trc'), stl_filename)\n",
    "\n",
    "new_cfg_filename = f\"{experiment_prefix}_cfg_{app_name}_{experiment_state}.json\"\n",
    "path_to_new_cfg_file = join(conv.get_path('cfg'), new_cfg_filename)\n",
    "\n",
    "predicted_output_log = f\"{experiment_prefix}_cfg_{app_name}_{experiment_state}_log.txt\"\n",
    "path_to_predicted_output_log = join(path_to_output_log_files, predicted_output_log)\n",
    "\n",
    "path_to_old_trace_file = cnn_conv.get_trace_file_path()\n",
    "\n",
    "path_to_old_cfg_file = join(conv.get_path('cfg'), cfg_file)"
   ]
  },
  {
   "cell_type": "markdown",
   "metadata": {},
   "source": [
    "# Conversion ISS format to DRAMSys format"
   ]
  },
  {
   "cell_type": "code",
   "execution_count": 16,
   "metadata": {},
   "outputs": [],
   "source": [
    "\n",
    "burst_length = conv.conv(\n",
    "  path_to_new_trace_file, \n",
    "  path_to_old_trace_file\n",
    ")\n",
    "\n",
    "conv.create_new_config_file(\n",
    "  path_to_old_cfg_file, \n",
    "  path_to_new_cfg_file, \n",
    "  path_to_new_trace_file, \n",
    "  burst_length, clkMhz\n",
    ")"
   ]
  },
  {
   "cell_type": "markdown",
   "metadata": {},
   "source": [
    "# DRAMSys simulation"
   ]
  },
  {
   "cell_type": "code",
   "execution_count": 17,
   "metadata": {},
   "outputs": [
    {
     "name": "stdout",
     "output_type": "stream",
     "text": [
      "Execution List:\n",
      "file: cnn_conv_cfg_yololite_CL16UN8LN2 - /home/luismendes/DRAMSys/configs/cnn_conv_cfg_yololite_CL16UN8LN2.json\n",
      "file: cnn_conv_cfg_yololite_CL8UN8LN2 - /home/luismendes/DRAMSys/configs/cnn_conv_cfg_yololite_CL8UN8LN2.json\n",
      "file: cnn_conv_cfg_yololite_CL4UN8LN2 - /home/luismendes/DRAMSys/configs/cnn_conv_cfg_yololite_CL4UN8LN2.json\n",
      "Executing now: cnn_conv_cfg_yololite_CL16UN8LN2\n",
      "Executing now: cnn_conv_cfg_yololite_CL8UN8LN2\n",
      "Executing now: cnn_conv_cfg_yololite_CL4UN8LN2\n"
     ]
    }
   ],
   "source": [
    "\n",
    "dsys = Dramsys(path_to_dramsys, experiment_prefix)\n",
    "log_files_generated = dsys.run_simulation(output_dir=path_to_output_log_files)"
   ]
  },
  {
   "cell_type": "markdown",
   "metadata": {},
   "source": [
    "# DRAMSys Parsing"
   ]
  },
  {
   "cell_type": "code",
   "execution_count": 18,
   "metadata": {},
   "outputs": [
    {
     "name": "stdout",
     "output_type": "stream",
     "text": [
      "{'average_power': ['374.23'],\n",
      " 'avg_bw_GB': ['0.09'],\n",
      " 'avg_bw_Gb': ['0.75'],\n",
      " 'avg_bw_idle_GB': ['7.13'],\n",
      " 'avg_bw_idle_Gb': ['57.03'],\n",
      " 'avg_bw_idle_p': ['47.77'],\n",
      " 'avg_bw_p': ['0.63'],\n",
      " 'max_bw_GB': ['14.93'],\n",
      " 'max_bw_Gb': ['119.40'],\n",
      " 'max_bw_p': ['100.00'],\n",
      " 'simulation_time': ['0.152614'],\n",
      " 'total_energy': ['1518813658.38'],\n",
      " 'total_time': ['4058498736'],\n",
      " 'unit_average_power': ['mW'],\n",
      " 'unit_avg_bw_GB': ['GB'],\n",
      " 'unit_avg_bw_Gb': ['Gb'],\n",
      " 'unit_avg_bw_idle_GB': ['GB'],\n",
      " 'unit_avg_bw_idle_Gb': ['Gb'],\n",
      " 'unit_max_bw_GB': ['GB'],\n",
      " 'unit_max_bw_Gb': ['Gb'],\n",
      " 'unit_total_energy': ['pJ'],\n",
      " 'unit_total_time': ['ps']}\n",
      "{'average_power': ['368.28'],\n",
      " 'avg_bw_GB': ['0.07'],\n",
      " 'avg_bw_Gb': ['0.54'],\n",
      " 'avg_bw_idle_GB': ['7.10'],\n",
      " 'avg_bw_idle_Gb': ['56.79'],\n",
      " 'avg_bw_idle_p': ['47.56'],\n",
      " 'avg_bw_p': ['0.46'],\n",
      " 'max_bw_GB': ['14.93'],\n",
      " 'max_bw_Gb': ['119.40'],\n",
      " 'max_bw_p': ['100.00'],\n",
      " 'simulation_time': ['0.191011'],\n",
      " 'total_energy': ['2073859747.95'],\n",
      " 'total_time': ['5631137744'],\n",
      " 'unit_average_power': ['mW'],\n",
      " 'unit_avg_bw_GB': ['GB'],\n",
      " 'unit_avg_bw_Gb': ['Gb'],\n",
      " 'unit_avg_bw_idle_GB': ['GB'],\n",
      " 'unit_avg_bw_idle_Gb': ['Gb'],\n",
      " 'unit_max_bw_GB': ['GB'],\n",
      " 'unit_max_bw_Gb': ['Gb'],\n",
      " 'unit_total_energy': ['pJ'],\n",
      " 'unit_total_time': ['ps']}\n",
      "{'average_power': ['360.34'],\n",
      " 'avg_bw_GB': ['0.04'],\n",
      " 'avg_bw_Gb': ['0.29'],\n",
      " 'avg_bw_idle_GB': ['7.22'],\n",
      " 'avg_bw_idle_Gb': ['57.75'],\n",
      " 'avg_bw_idle_p': ['48.36'],\n",
      " 'avg_bw_p': ['0.24'],\n",
      " 'max_bw_GB': ['14.93'],\n",
      " 'max_bw_Gb': ['119.40'],\n",
      " 'max_bw_p': ['100.00'],\n",
      " 'simulation_time': ['0.224150'],\n",
      " 'total_energy': ['3792474817.28'],\n",
      " 'total_time': ['10524602272'],\n",
      " 'unit_average_power': ['mW'],\n",
      " 'unit_avg_bw_GB': ['GB'],\n",
      " 'unit_avg_bw_Gb': ['Gb'],\n",
      " 'unit_avg_bw_idle_GB': ['GB'],\n",
      " 'unit_avg_bw_idle_Gb': ['Gb'],\n",
      " 'unit_max_bw_GB': ['GB'],\n",
      " 'unit_max_bw_Gb': ['Gb'],\n",
      " 'unit_total_energy': ['pJ'],\n",
      " 'unit_total_time': ['ps']}\n"
     ]
    }
   ],
   "source": [
    "\n",
    "parser = DRAMParser(True)\n",
    "for file in log_files_generated:\n",
    "  parser.parse_file(file, path_to_output_parsed_files)"
   ]
  }
 ],
 "metadata": {
  "kernelspec": {
   "display_name": "base",
   "language": "python",
   "name": "python3"
  },
  "language_info": {
   "codemirror_mode": {
    "name": "ipython",
    "version": 3
   },
   "file_extension": ".py",
   "mimetype": "text/x-python",
   "name": "python",
   "nbconvert_exporter": "python",
   "pygments_lexer": "ipython3",
   "version": "3.9.12"
  }
 },
 "nbformat": 4,
 "nbformat_minor": 2
}
