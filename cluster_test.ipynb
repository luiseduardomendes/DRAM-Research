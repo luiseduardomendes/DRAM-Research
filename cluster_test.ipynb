{
 "cells": [
  {
   "cell_type": "markdown",
   "metadata": {},
   "source": [
    "# Library Import"
   ]
  },
  {
   "cell_type": "code",
   "execution_count": 1,
   "metadata": {},
   "outputs": [],
   "source": [
    "import json\n",
    "from dramlib.iss.converter import Converter\n",
    "from dramlib.dramsys.simulation import Dramsys\n",
    "from dramlib.dramsys.parsing import Parser\n",
    "from os.path import join"
   ]
  },
  {
   "cell_type": "markdown",
   "metadata": {},
   "source": [
    "# Experiment Definitions"
   ]
  },
  {
   "cell_type": "code",
   "execution_count": 2,
   "metadata": {},
   "outputs": [],
   "source": [
    "\n",
    "experiment_prefix = 'cluster00'\n",
    "app_name = 'conv2d'\n",
    "n_cluster = 4\n",
    "n_units = 4\n",
    "n_lanes = 2\n",
    "experiment_state = f'CL{n_cluster}UN{n_units}LN{n_lanes}'\n",
    "cfg_file = 'ddr4-example.json'\n",
    "clkMhz = 200"
   ]
  },
  {
   "cell_type": "markdown",
   "metadata": {},
   "source": [
    "# Path Definitions"
   ]
  },
  {
   "cell_type": "code",
   "execution_count": 3,
   "metadata": {},
   "outputs": [],
   "source": [
    "\n",
    "path_to_dramsys = \"/home/luismendes/DRAMSys\"\n",
    "conv = Converter(path_to_dramsys)\n",
    "\n",
    "stl_filename = f\"{experiment_prefix}_trace_{app_name}_{experiment_state}.stl\"\n",
    "path_to_new_trace_file = join(conv.get_path('trc'), stl_filename)\n",
    "\n",
    "new_cfg_filename = f\"{experiment_prefix}_cfg_{app_name}_{experiment_state}.json\"\n",
    "path_to_new_cfg_file = join(conv.get_path('cfg'), new_cfg_filename)\n",
    "\n",
    "iss_path = '/home/luismendes/zuse_ki_avf/vpro_sys_behavioral/TOOLS/VPRO/ISS/'\n",
    "app_path = join(iss_path,'apps/conv2d/')\n",
    "trace_relativ_path = \"build_release/main_mem.trace\"\n",
    "path_to_old_trace_file = join(app_path, trace_relativ_path)\n",
    "\n",
    "path_to_old_cfg_file = join(conv.get_path('cfg'), cfg_file)\n",
    "\n",
    "path_to_output_log_files = 'output_log'\n",
    "path_to_output_parsed_files = \"output\""
   ]
  },
  {
   "cell_type": "markdown",
   "metadata": {},
   "source": [
    "# Conversion ISS format to DRAMSys format"
   ]
  },
  {
   "cell_type": "code",
   "execution_count": 4,
   "metadata": {},
   "outputs": [],
   "source": [
    "\n",
    "burst_length = conv.conv(\n",
    "  path_to_new_trace_file, \n",
    "  path_to_old_trace_file\n",
    ")\n",
    "\n",
    "conv.create_new_config_file(\n",
    "  path_to_old_cfg_file, \n",
    "  path_to_new_cfg_file, \n",
    "  path_to_new_trace_file, \n",
    "  burst_length, clkMhz\n",
    ")"
   ]
  },
  {
   "cell_type": "markdown",
   "metadata": {},
   "source": [
    "# DRAMSys simulation"
   ]
  },
  {
   "cell_type": "code",
   "execution_count": 5,
   "metadata": {},
   "outputs": [
    {
     "name": "stdout",
     "output_type": "stream",
     "text": [
      "Execution List:\n",
      "file: cluster00_cfg_conv2d_CL4UN4LN2 - /home/luismendes/DRAMSys/configs/cluster00_cfg_conv2d_CL4UN4LN2.json\n",
      "Executing now: cluster00_cfg_conv2d_CL4UN4LN2\n"
     ]
    },
    {
     "name": "stderr",
     "output_type": "stream",
     "text": [
      "\n",
      "        SystemC 2.3.4-Accellera --- Jul 25 2024 15:39:09\n",
      "        Copyright (c) 1996-2022 by all Contributors,\n",
      "        ALL RIGHTS RESERVED\n"
     ]
    }
   ],
   "source": [
    "\n",
    "dsys = Dramsys(path_to_dramsys, experiment_prefix)\n",
    "log_files_generated = dsys.run_simulation(output_dir=path_to_output_log_files)"
   ]
  },
  {
   "cell_type": "markdown",
   "metadata": {},
   "source": [
    "# DRAMSys Parsing"
   ]
  },
  {
   "cell_type": "code",
   "execution_count": 6,
   "metadata": {},
   "outputs": [
    {
     "name": "stdout",
     "output_type": "stream",
     "text": [
      "{'avg_bw_GB': ['0.08'],\n",
      " 'avg_bw_Gb': ['0.66'],\n",
      " 'avg_bw_idle_GB': ['3.07'],\n",
      " 'avg_bw_idle_Gb': ['24.54'],\n",
      " 'avg_bw_idle_p': ['20.55'],\n",
      " 'avg_bw_p': ['0.55'],\n",
      " 'max_bw_GB': ['14.93'],\n",
      " 'max_bw_Gb': ['119.40'],\n",
      " 'max_bw_p': ['100.00'],\n",
      " 'simulation_time': ['0.120555'],\n",
      " 'total_time': ['2496459664'],\n",
      " 'unit_avg_bw_GB': ['GB'],\n",
      " 'unit_avg_bw_Gb': ['Gb'],\n",
      " 'unit_avg_bw_idle_GB': ['GB'],\n",
      " 'unit_avg_bw_idle_Gb': ['Gb'],\n",
      " 'unit_max_bw_GB': ['GB'],\n",
      " 'unit_max_bw_Gb': ['Gb'],\n",
      " 'unit_total_time': ['ps']}\n"
     ]
    }
   ],
   "source": [
    "\n",
    "parser = Parser()\n",
    "for file in log_files_generated:\n",
    "  parser.parse_file(file, path_to_output_parsed_files)"
   ]
  }
 ],
 "metadata": {
  "kernelspec": {
   "display_name": "base",
   "language": "python",
   "name": "python3"
  },
  "language_info": {
   "codemirror_mode": {
    "name": "ipython",
    "version": 3
   },
   "file_extension": ".py",
   "mimetype": "text/x-python",
   "name": "python",
   "nbconvert_exporter": "python",
   "pygments_lexer": "ipython3",
   "version": "3.9.12"
  }
 },
 "nbformat": 4,
 "nbformat_minor": 2
}
