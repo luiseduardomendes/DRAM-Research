{
 "cells": [
  {
   "cell_type": "code",
   "execution_count": 1,
   "metadata": {},
   "outputs": [
    {
     "name": "stderr",
     "output_type": "stream",
     "text": [
      "\n",
      "        SystemC 2.3.4-Accellera --- May 23 2024 15:51:45\n",
      "        Copyright (c) 1996-2022 by all Contributors,\n",
      "        ALL RIGHTS RESERVED\n"
     ]
    }
   ],
   "source": [
    "import dramlib\n",
    "import dramlib.dramsys\n",
    "import dramlib.dramsys.simulation \n",
    "\n",
    "dsys_path = \"/home/luismendes/DRAM/DRAMSys/\"\n",
    "cfg_file = \"ddr4-example-ranktest.json\"\n",
    "ds = dramlib.dramsys.simulation.Dramsys(dsys_path)\n",
    "ds.run_execution(cfg_file)"
   ]
  }
 ],
 "metadata": {
  "kernelspec": {
   "display_name": "scalesim",
   "language": "python",
   "name": "python3"
  },
  "language_info": {
   "codemirror_mode": {
    "name": "ipython",
    "version": 3
   },
   "file_extension": ".py",
   "mimetype": "text/x-python",
   "name": "python",
   "nbconvert_exporter": "python",
   "pygments_lexer": "ipython3",
   "version": "3.12.3"
  }
 },
 "nbformat": 4,
 "nbformat_minor": 2
}
