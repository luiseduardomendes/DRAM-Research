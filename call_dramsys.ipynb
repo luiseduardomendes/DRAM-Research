{
 "cells": [
  {
   "cell_type": "code",
   "execution_count": 4,
   "metadata": {},
   "outputs": [
    {
     "data": {
      "text/plain": [
       "<dramlib.dramsys.simulation.Dramsys at 0x7f9009c33230>"
      ]
     },
     "execution_count": 4,
     "metadata": {},
     "output_type": "execute_result"
    }
   ],
   "source": [
    "from dramlib.dramsys import Dramsys\n",
    "\n",
    "dsys = Dramsys(\n",
    "  \"/home/luismendes/DRAM/DRAMSys\",\n",
    "  'ddr4-example'\n",
    ")\n",
    "dsys"
   ]
  },
  {
   "cell_type": "code",
   "execution_count": 5,
   "metadata": {},
   "outputs": [
    {
     "name": "stdout",
     "output_type": "stream",
     "text": [
      "/home/luismendes/DRAM/DRAMSys/build/bin/DRAMSys /home/luismendes/DRAM/DRAMSys/configs/ddr4-example.json > /home/luismendes/DRAM/DRAM-Research/output.txt\n"
     ]
    }
   ],
   "source": [
    "dsys.run_execution(\n",
    "  \"/home/luismendes/DRAM/DRAMSys/configs/ddr4-example.json\",\n",
    "  \"/home/luismendes/DRAM/DRAM-Research/output.txt\"\n",
    ")"
   ]
  },
  {
   "cell_type": "code",
   "execution_count": null,
   "metadata": {},
   "outputs": [],
   "source": [
    "dsys.run_simulation(\n",
    "  ''\n",
    ")"
   ]
  }
 ],
 "metadata": {
  "kernelspec": {
   "display_name": "scalesim",
   "language": "python",
   "name": "python3"
  },
  "language_info": {
   "codemirror_mode": {
    "name": "ipython",
    "version": 3
   },
   "file_extension": ".py",
   "mimetype": "text/x-python",
   "name": "python",
   "nbconvert_exporter": "python",
   "pygments_lexer": "ipython3",
   "version": "3.12.3"
  }
 },
 "nbformat": 4,
 "nbformat_minor": 2
}
