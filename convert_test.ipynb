{
 "cells": [
  {
   "cell_type": "code",
   "execution_count": 1,
   "metadata": {},
   "outputs": [
    {
     "name": "stdout",
     "output_type": "stream",
     "text": [
      "16\n"
     ]
    }
   ],
   "source": [
    "import json\n",
    "from dramlib.iss.converter import Converter\n",
    "from os.path import join\n",
    "\n",
    "path = \"/home/luismendes/DRAM-Research/DRAMSys\"\n",
    "conv = Converter(path)\n",
    "stl_file = \"output.stl\"\n",
    "\n",
    "stl = join(conv.get_path('trc'), stl_file)\n",
    "trace = '/home/luismendes/DRAM-Research/dramlib/data/main_mem.trace'\n",
    "cfg_file = '/home/luismendes/DRAM-Research/DRAMSys/configs/ddr4-example.json'\n",
    "clkMhz = 100\n",
    "\n",
    "burst_length = conv.conv(stl, trace)\n",
    "print(burst_length)\n",
    "conv.update_config_file(cfg_file, trace, burst_length, clkMhz)\n",
    "\n"
   ]
  },
  {
   "cell_type": "code",
   "execution_count": 2,
   "metadata": {},
   "outputs": [],
   "source": [
    "stl2 =  join(conv.get_path('trc'), \"example.stl\")\n",
    "conv.append_trace(cfg_file, stl2, clkMhz)"
   ]
  }
 ],
 "metadata": {
  "kernelspec": {
   "display_name": "Python 3",
   "language": "python",
   "name": "python3"
  },
  "language_info": {
   "codemirror_mode": {
    "name": "ipython",
    "version": 3
   },
   "file_extension": ".py",
   "mimetype": "text/x-python",
   "name": "python",
   "nbconvert_exporter": "python",
   "pygments_lexer": "ipython3",
   "version": "3.9.12"
  }
 },
 "nbformat": 4,
 "nbformat_minor": 2
}
