{
 "cells": [
  {
   "cell_type": "code",
   "execution_count": 1,
   "metadata": {},
   "outputs": [
    {
     "name": "stderr",
     "output_type": "stream",
     "text": [
      "/home/luismendes/DRAM/DRAM-Research/dramlib/scalesim/conversion.py:79: FutureWarning: DataFrame.applymap has been deprecated. Use DataFrame.map instead.\n",
      "  data = data.applymap(convert_to_int)\n",
      "/home/luismendes/DRAM/DRAM-Research/dramlib/scalesim/conversion.py:79: FutureWarning: DataFrame.applymap has been deprecated. Use DataFrame.map instead.\n",
      "  data = data.applymap(convert_to_int)\n",
      "/home/luismendes/DRAM/DRAM-Research/dramlib/scalesim/conversion.py:79: FutureWarning: DataFrame.applymap has been deprecated. Use DataFrame.map instead.\n",
      "  data = data.applymap(convert_to_int)\n"
     ]
    }
   ],
   "source": [
    "from dramlib.scalesim import Converter\n",
    "\n",
    "input_path = \"/home/luismendes/DRAM/DRAM-Research/yolo_tiny_Conv1_dram_copy/layer0\"\n",
    "network = \"yolo_tiny\"\n",
    "layer = \"Conv1\"\n",
    "config = \"GoogleTPU_os\"\n",
    "max_consecutive_data = 16\n",
    "\n",
    "converter = Converter()\n",
    "exec_tag = converter.generate_exec_tag(network, layer)\n",
    "output = converter.generate_output_file(config, network, layer)\n",
    "input_files = converter.generate_input_files_from_path(input_path, exec_tag, include_ifmap=True)\n",
    "\n",
    "converter.convert(input_files, output, max_consecutive_data)"
   ]
  },
  {
   "cell_type": "code",
   "execution_count": 3,
   "metadata": {},
   "outputs": [
    {
     "data": {
      "text/plain": [
       "'/home/luismendes/DRAM/SCALE-Sim/outputs/GoogleTPU_os/layer_wise'"
      ]
     },
     "execution_count": 3,
     "metadata": {},
     "output_type": "execute_result"
    }
   ],
   "source": [
    "from dramlib.scalesim import Converter\n",
    "\n",
    "path = \"/home/luismendes/DRAM/SCALE-Sim/outputs\"\n",
    "config = \"GoogleTPU_os\"\n",
    "network = \"yolo_tiny\"\n",
    "layer = \"Conv1\"\n",
    "\n",
    "converter = Converter()\n",
    "converter.generate_input_path(path, config)"
   ]
  },
  {
   "cell_type": "code",
   "execution_count": 1,
   "metadata": {},
   "outputs": [
    {
     "data": {
      "text/plain": [
       "['Conv4',\n",
       " 'Conv6',\n",
       " 'Conv7',\n",
       " 'Conv9',\n",
       " 'Conv2',\n",
       " 'Conv1',\n",
       " 'Conv3',\n",
       " 'Conv8',\n",
       " 'Conv5']"
      ]
     },
     "execution_count": 1,
     "metadata": {},
     "output_type": "execute_result"
    }
   ],
   "source": [
    "from dramlib.scalesim import Converter\n",
    "\n",
    "path = \"/home/luismendes/DRAM/SCALE-Sim/outputs\"\n",
    "config = \"GoogleTPU_os\"\n",
    "network = \"yolo_tiny\"\n",
    "\n",
    "converter = Converter()\n",
    "input_path = converter.generate_input_path(path, config)\n",
    "converter.generate_layer_list(input_path, network)"
   ]
  },
  {
   "cell_type": "code",
   "execution_count": 4,
   "metadata": {},
   "outputs": [
    {
     "data": {
      "text/plain": [
       "['MLPERF_AlphaGoZero_32x32_os', 'GoogleTPU_os']"
      ]
     },
     "execution_count": 4,
     "metadata": {},
     "output_type": "execute_result"
    }
   ],
   "source": [
    "configs = converter.generate_config_list(path)\n",
    "configs"
   ]
  },
  {
   "cell_type": "code",
   "execution_count": 8,
   "metadata": {},
   "outputs": [
    {
     "data": {
      "text/plain": [
       "{'MLPERF_AlphaGoZero_32x32_os': ['yolo_tiny'], 'GoogleTPU_os': ['yolo_tiny']}"
      ]
     },
     "execution_count": 8,
     "metadata": {},
     "output_type": "execute_result"
    }
   ],
   "source": [
    "from os.path import join\n",
    "networks = {config: converter.generate_network_list(join(path, config)) for config in configs}\n",
    "networks "
   ]
  },
  {
   "cell_type": "code",
   "execution_count": 18,
   "metadata": {},
   "outputs": [
    {
     "data": {
      "text/plain": [
       "{'MLPERF_AlphaGoZero_32x32_os': {'yolo_tiny': ['Conv4',\n",
       "   'Conv6',\n",
       "   'Conv7',\n",
       "   'Conv9',\n",
       "   'Conv2',\n",
       "   'Conv1',\n",
       "   'Conv3',\n",
       "   'Conv8',\n",
       "   'Conv5']},\n",
       " 'GoogleTPU_os': {'yolo_tiny': ['Conv4',\n",
       "   'Conv6',\n",
       "   'Conv7',\n",
       "   'Conv9',\n",
       "   'Conv2',\n",
       "   'Conv1',\n",
       "   'Conv3',\n",
       "   'Conv8',\n",
       "   'Conv5']}}"
      ]
     },
     "execution_count": 18,
     "metadata": {},
     "output_type": "execute_result"
    }
   ],
   "source": [
    "\n",
    "file_structure = {\n",
    "  config: {\n",
    "    network: \n",
    "      converter.generate_layer_list(\n",
    "        converter.generate_input_path(path, config), \n",
    "        network\n",
    "      ) \n",
    "      for network in networks[config]\n",
    "  } for config in networks.keys()\n",
    "}\n",
    "file_structure"
   ]
  },
  {
   "cell_type": "code",
   "execution_count": 20,
   "metadata": {},
   "outputs": [
    {
     "data": {
      "text/html": [
       "<div>\n",
       "<style scoped>\n",
       "    .dataframe tbody tr th:only-of-type {\n",
       "        vertical-align: middle;\n",
       "    }\n",
       "\n",
       "    .dataframe tbody tr th {\n",
       "        vertical-align: top;\n",
       "    }\n",
       "\n",
       "    .dataframe thead th {\n",
       "        text-align: right;\n",
       "    }\n",
       "</style>\n",
       "<table border=\"1\" class=\"dataframe\">\n",
       "  <thead>\n",
       "    <tr style=\"text-align: right;\">\n",
       "      <th></th>\n",
       "      <th></th>\n",
       "      <th></th>\n",
       "    </tr>\n",
       "    <tr>\n",
       "      <th>Configuration</th>\n",
       "      <th>Network</th>\n",
       "      <th>Layer</th>\n",
       "    </tr>\n",
       "  </thead>\n",
       "  <tbody>\n",
       "    <tr>\n",
       "      <th rowspan=\"9\" valign=\"top\">MLPERF_AlphaGoZero_32x32_os</th>\n",
       "      <th rowspan=\"9\" valign=\"top\">yolo_tiny</th>\n",
       "      <th>Conv4</th>\n",
       "    </tr>\n",
       "    <tr>\n",
       "      <th>Conv6</th>\n",
       "    </tr>\n",
       "    <tr>\n",
       "      <th>Conv7</th>\n",
       "    </tr>\n",
       "    <tr>\n",
       "      <th>Conv9</th>\n",
       "    </tr>\n",
       "    <tr>\n",
       "      <th>Conv2</th>\n",
       "    </tr>\n",
       "    <tr>\n",
       "      <th>Conv1</th>\n",
       "    </tr>\n",
       "    <tr>\n",
       "      <th>Conv3</th>\n",
       "    </tr>\n",
       "    <tr>\n",
       "      <th>Conv8</th>\n",
       "    </tr>\n",
       "    <tr>\n",
       "      <th>Conv5</th>\n",
       "    </tr>\n",
       "    <tr>\n",
       "      <th rowspan=\"9\" valign=\"top\">GoogleTPU_os</th>\n",
       "      <th rowspan=\"9\" valign=\"top\">yolo_tiny</th>\n",
       "      <th>Conv4</th>\n",
       "    </tr>\n",
       "    <tr>\n",
       "      <th>Conv6</th>\n",
       "    </tr>\n",
       "    <tr>\n",
       "      <th>Conv7</th>\n",
       "    </tr>\n",
       "    <tr>\n",
       "      <th>Conv9</th>\n",
       "    </tr>\n",
       "    <tr>\n",
       "      <th>Conv2</th>\n",
       "    </tr>\n",
       "    <tr>\n",
       "      <th>Conv1</th>\n",
       "    </tr>\n",
       "    <tr>\n",
       "      <th>Conv3</th>\n",
       "    </tr>\n",
       "    <tr>\n",
       "      <th>Conv8</th>\n",
       "    </tr>\n",
       "    <tr>\n",
       "      <th>Conv5</th>\n",
       "    </tr>\n",
       "  </tbody>\n",
       "</table>\n",
       "</div>"
      ],
      "text/plain": [
       "Empty DataFrame\n",
       "Columns: []\n",
       "Index: [(MLPERF_AlphaGoZero_32x32_os, yolo_tiny, Conv4), (MLPERF_AlphaGoZero_32x32_os, yolo_tiny, Conv6), (MLPERF_AlphaGoZero_32x32_os, yolo_tiny, Conv7), (MLPERF_AlphaGoZero_32x32_os, yolo_tiny, Conv9), (MLPERF_AlphaGoZero_32x32_os, yolo_tiny, Conv2), (MLPERF_AlphaGoZero_32x32_os, yolo_tiny, Conv1), (MLPERF_AlphaGoZero_32x32_os, yolo_tiny, Conv3), (MLPERF_AlphaGoZero_32x32_os, yolo_tiny, Conv8), (MLPERF_AlphaGoZero_32x32_os, yolo_tiny, Conv5), (GoogleTPU_os, yolo_tiny, Conv4), (GoogleTPU_os, yolo_tiny, Conv6), (GoogleTPU_os, yolo_tiny, Conv7), (GoogleTPU_os, yolo_tiny, Conv9), (GoogleTPU_os, yolo_tiny, Conv2), (GoogleTPU_os, yolo_tiny, Conv1), (GoogleTPU_os, yolo_tiny, Conv3), (GoogleTPU_os, yolo_tiny, Conv8), (GoogleTPU_os, yolo_tiny, Conv5)]"
      ]
     },
     "execution_count": 20,
     "metadata": {},
     "output_type": "execute_result"
    }
   ],
   "source": [
    "import pandas as pd\n",
    "\n",
    "data = file_structure\n",
    "\n",
    "multi_index_tuples = []\n",
    "\n",
    "for key1, subdict in data.items():\n",
    "  for key2, layers in subdict.items():\n",
    "    for layer in layers:\n",
    "      multi_index_tuples.append((key1, key2, layer))\n",
    "\n",
    "# Criar o MultiIndex\n",
    "index = pd.MultiIndex.from_tuples(multi_index_tuples, names=[\"Configuration\", \"Network\", \"Layer\"])\n",
    "\n",
    "# Criar o DataFrame vazio com MultiIndex\n",
    "df = pd.DataFrame(index=index)\n",
    "df"
   ]
  },
  {
   "cell_type": "code",
   "execution_count": 2,
   "metadata": {},
   "outputs": [
    {
     "data": {
      "text/html": [
       "<div>\n",
       "<style scoped>\n",
       "    .dataframe tbody tr th:only-of-type {\n",
       "        vertical-align: middle;\n",
       "    }\n",
       "\n",
       "    .dataframe tbody tr th {\n",
       "        vertical-align: top;\n",
       "    }\n",
       "\n",
       "    .dataframe thead th {\n",
       "        text-align: right;\n",
       "    }\n",
       "</style>\n",
       "<table border=\"1\" class=\"dataframe\">\n",
       "  <thead>\n",
       "    <tr style=\"text-align: right;\">\n",
       "      <th></th>\n",
       "      <th></th>\n",
       "      <th></th>\n",
       "    </tr>\n",
       "    <tr>\n",
       "      <th>Configuration</th>\n",
       "      <th>Network</th>\n",
       "      <th>Layer</th>\n",
       "    </tr>\n",
       "  </thead>\n",
       "  <tbody>\n",
       "    <tr>\n",
       "      <th rowspan=\"5\" valign=\"top\">MLPERF_AlphaGoZero_32x32_os</th>\n",
       "      <th rowspan=\"5\" valign=\"top\">yolo_tiny</th>\n",
       "      <th>Conv4</th>\n",
       "    </tr>\n",
       "    <tr>\n",
       "      <th>Conv6</th>\n",
       "    </tr>\n",
       "    <tr>\n",
       "      <th>Conv7</th>\n",
       "    </tr>\n",
       "    <tr>\n",
       "      <th>Conv9</th>\n",
       "    </tr>\n",
       "    <tr>\n",
       "      <th>Conv2</th>\n",
       "    </tr>\n",
       "    <tr>\n",
       "      <th>...</th>\n",
       "      <th>...</th>\n",
       "      <th>...</th>\n",
       "    </tr>\n",
       "    <tr>\n",
       "      <th rowspan=\"5\" valign=\"top\">GoogleTPU_os</th>\n",
       "      <th rowspan=\"5\" valign=\"top\">yolo_tiny</th>\n",
       "      <th>Conv15</th>\n",
       "    </tr>\n",
       "    <tr>\n",
       "      <th>Conv5</th>\n",
       "    </tr>\n",
       "    <tr>\n",
       "      <th>Conv25</th>\n",
       "    </tr>\n",
       "    <tr>\n",
       "      <th>Conv26</th>\n",
       "    </tr>\n",
       "    <tr>\n",
       "      <th>Conv9</th>\n",
       "    </tr>\n",
       "  </tbody>\n",
       "</table>\n",
       "<p>81 rows × 0 columns</p>\n",
       "</div>"
      ],
      "text/plain": [
       "Empty DataFrame\n",
       "Columns: []\n",
       "Index: [(MLPERF_AlphaGoZero_32x32_os, yolo_tiny, Conv4), (MLPERF_AlphaGoZero_32x32_os, yolo_tiny, Conv6), (MLPERF_AlphaGoZero_32x32_os, yolo_tiny, Conv7), (MLPERF_AlphaGoZero_32x32_os, yolo_tiny, Conv9), (MLPERF_AlphaGoZero_32x32_os, yolo_tiny, Conv2), (MLPERF_AlphaGoZero_32x32_os, yolo_tiny, Conv1), (MLPERF_AlphaGoZero_32x32_os, yolo_tiny, Conv3), (MLPERF_AlphaGoZero_32x32_os, yolo_tiny, Conv8), (MLPERF_AlphaGoZero_32x32_os, yolo_tiny, Conv5), (GoogleTPU_os, mobilenet, Conv13), (GoogleTPU_os, mobilenet, Conv4), (GoogleTPU_os, mobilenet, Conv20), (GoogleTPU_os, mobilenet, Conv6), (GoogleTPU_os, mobilenet, Conv7), (GoogleTPU_os, mobilenet, Conv1), (GoogleTPU_os, mobilenet, Conv16), (GoogleTPU_os, mobilenet, Conv8), (GoogleTPU_os, mobilenet, Conv19), (GoogleTPU_os, mobilenet, Conv27), (GoogleTPU_os, mobilenet, Conv14), (GoogleTPU_os, mobilenet, Conv10), (GoogleTPU_os, mobilenet, Conv4), (GoogleTPU_os, mobilenet, Conv7), (GoogleTPU_os, mobilenet, Conv9), (GoogleTPU_os, mobilenet, Conv23), (GoogleTPU_os, mobilenet, Conv22), (GoogleTPU_os, mobilenet, Conv2), (GoogleTPU_os, mobilenet, Conv1), (GoogleTPU_os, mobilenet, Conv11), (GoogleTPU_os, mobilenet, Conv17), (GoogleTPU_os, mobilenet, Conv12), (GoogleTPU_os, mobilenet, Conv21), (GoogleTPU_os, mobilenet, Conv5), (GoogleTPU_os, mobilenet, Conv3), (GoogleTPU_os, mobilenet, Conv6), (GoogleTPU_os, mobilenet, Conv24), (GoogleTPU_os, mobilenet, Conv3), (GoogleTPU_os, mobilenet, Conv8), (GoogleTPU_os, mobilenet, Conv2), (GoogleTPU_os, mobilenet, Conv18), (GoogleTPU_os, mobilenet, Conv15), (GoogleTPU_os, mobilenet, Conv5), (GoogleTPU_os, mobilenet, Conv25), (GoogleTPU_os, mobilenet, Conv26), (GoogleTPU_os, mobilenet, Conv9), (GoogleTPU_os, yolo_tiny, Conv13), (GoogleTPU_os, yolo_tiny, Conv4), (GoogleTPU_os, yolo_tiny, Conv20), (GoogleTPU_os, yolo_tiny, Conv6), (GoogleTPU_os, yolo_tiny, Conv7), (GoogleTPU_os, yolo_tiny, Conv1), (GoogleTPU_os, yolo_tiny, Conv16), (GoogleTPU_os, yolo_tiny, Conv8), (GoogleTPU_os, yolo_tiny, Conv19), (GoogleTPU_os, yolo_tiny, Conv27), (GoogleTPU_os, yolo_tiny, Conv14), (GoogleTPU_os, yolo_tiny, Conv10), (GoogleTPU_os, yolo_tiny, Conv4), (GoogleTPU_os, yolo_tiny, Conv7), (GoogleTPU_os, yolo_tiny, Conv9), (GoogleTPU_os, yolo_tiny, Conv23), (GoogleTPU_os, yolo_tiny, Conv22), (GoogleTPU_os, yolo_tiny, Conv2), (GoogleTPU_os, yolo_tiny, Conv1), (GoogleTPU_os, yolo_tiny, Conv11), (GoogleTPU_os, yolo_tiny, Conv17), (GoogleTPU_os, yolo_tiny, Conv12), (GoogleTPU_os, yolo_tiny, Conv21), (GoogleTPU_os, yolo_tiny, Conv5), (GoogleTPU_os, yolo_tiny, Conv3), (GoogleTPU_os, yolo_tiny, Conv6), (GoogleTPU_os, yolo_tiny, Conv24), (GoogleTPU_os, yolo_tiny, Conv3), (GoogleTPU_os, yolo_tiny, Conv8), (GoogleTPU_os, yolo_tiny, Conv2), (GoogleTPU_os, yolo_tiny, Conv18), (GoogleTPU_os, yolo_tiny, Conv15), (GoogleTPU_os, yolo_tiny, Conv5), (GoogleTPU_os, yolo_tiny, Conv25), (GoogleTPU_os, yolo_tiny, Conv26), (GoogleTPU_os, yolo_tiny, Conv9)]\n",
       "\n",
       "[81 rows x 0 columns]"
      ]
     },
     "execution_count": 2,
     "metadata": {},
     "output_type": "execute_result"
    }
   ],
   "source": [
    "from dramlib.scalesim import Converter\n",
    "\n",
    "path = \"/home/luismendes/DRAM/SCALE-Sim/outputs\"\n",
    "\n",
    "converter = Converter()\n",
    "converter.generate_structure(path)"
   ]
  },
  {
   "cell_type": "code",
   "execution_count": 5,
   "metadata": {},
   "outputs": [
    {
     "data": {
      "text/plain": [
       "{'MLPERF_AlphaGoZero_32x32_os': {'yolo_tiny': ['Conv4',\n",
       "   'Conv6',\n",
       "   'Conv7',\n",
       "   'Conv9',\n",
       "   'Conv2',\n",
       "   'Conv1',\n",
       "   'Conv3',\n",
       "   'Conv8',\n",
       "   'Conv5']},\n",
       " 'GoogleTPU_os': {'mobilenet': ['Conv13',\n",
       "   'Conv4',\n",
       "   'Conv20',\n",
       "   'Conv6',\n",
       "   'Conv7',\n",
       "   'Conv1',\n",
       "   'Conv16',\n",
       "   'Conv8',\n",
       "   'Conv19',\n",
       "   'Conv27',\n",
       "   'Conv14',\n",
       "   'Conv10',\n",
       "   'Conv4',\n",
       "   'Conv7',\n",
       "   'Conv9',\n",
       "   'Conv23',\n",
       "   'Conv22',\n",
       "   'Conv2',\n",
       "   'Conv1',\n",
       "   'Conv11',\n",
       "   'Conv17',\n",
       "   'Conv12',\n",
       "   'Conv21',\n",
       "   'Conv5',\n",
       "   'Conv3',\n",
       "   'Conv6',\n",
       "   'Conv24',\n",
       "   'Conv3',\n",
       "   'Conv8',\n",
       "   'Conv2',\n",
       "   'Conv18',\n",
       "   'Conv15',\n",
       "   'Conv5',\n",
       "   'Conv25',\n",
       "   'Conv26',\n",
       "   'Conv9'],\n",
       "  'yolo_tiny': ['Conv13',\n",
       "   'Conv4',\n",
       "   'Conv20',\n",
       "   'Conv6',\n",
       "   'Conv7',\n",
       "   'Conv1',\n",
       "   'Conv16',\n",
       "   'Conv8',\n",
       "   'Conv19',\n",
       "   'Conv27',\n",
       "   'Conv14',\n",
       "   'Conv10',\n",
       "   'Conv4',\n",
       "   'Conv7',\n",
       "   'Conv9',\n",
       "   'Conv23',\n",
       "   'Conv22',\n",
       "   'Conv2',\n",
       "   'Conv1',\n",
       "   'Conv11',\n",
       "   'Conv17',\n",
       "   'Conv12',\n",
       "   'Conv21',\n",
       "   'Conv5',\n",
       "   'Conv3',\n",
       "   'Conv6',\n",
       "   'Conv24',\n",
       "   'Conv3',\n",
       "   'Conv8',\n",
       "   'Conv2',\n",
       "   'Conv18',\n",
       "   'Conv15',\n",
       "   'Conv5',\n",
       "   'Conv25',\n",
       "   'Conv26',\n",
       "   'Conv9']}}"
      ]
     },
     "execution_count": 5,
     "metadata": {},
     "output_type": "execute_result"
    }
   ],
   "source": [
    "from dramlib.scalesim import Converter\n",
    "\n",
    "path = \"/home/luismendes/DRAM/SCALE-Sim/outputs\"\n",
    "\n",
    "converter = Converter()\n",
    "#converter.convert_all(path, 16, False)\n",
    "converter.generate_structure_dict(path)"
   ]
  }
 ],
 "metadata": {
  "kernelspec": {
   "display_name": "scalesim",
   "language": "python",
   "name": "python3"
  },
  "language_info": {
   "codemirror_mode": {
    "name": "ipython",
    "version": 3
   },
   "file_extension": ".py",
   "mimetype": "text/x-python",
   "name": "python",
   "nbconvert_exporter": "python",
   "pygments_lexer": "ipython3",
   "version": "3.12.3"
  }
 },
 "nbformat": 4,
 "nbformat_minor": 2
}
