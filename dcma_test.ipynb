{
 "cells": [
  {
   "cell_type": "markdown",
   "metadata": {},
   "source": [
    "# Library Import"
   ]
  },
  {
   "cell_type": "code",
   "execution_count": 40,
   "metadata": {},
   "outputs": [],
   "source": [
    "from dramlib.iss.converter import Converter\n",
    "from dramlib.dramsys.simulation import Dramsys\n",
    "from dramlib.dramsys.parsing import Parser\n",
    "from os.path import join, exists\n",
    "from os import makedirs"
   ]
  },
  {
   "cell_type": "markdown",
   "metadata": {},
   "source": [
    "# Experiment Definitions"
   ]
  },
  {
   "cell_type": "code",
   "execution_count": 41,
   "metadata": {},
   "outputs": [],
   "source": [
    "\n",
    "experiment_prefix = 'dcma00'\n",
    "app_name = 'conv2d'\n",
    "n_rams = 32\n",
    "line_size = 1024\n",
    "associativity = 4\n",
    "experiment_state = f'NR{n_rams}LS{line_size}AS{associativity}'\n",
    "cfg_file = 'ddr4-example.json'\n",
    "clkMhz = 200"
   ]
  },
  {
   "cell_type": "markdown",
   "metadata": {},
   "source": [
    "# Path Definitions"
   ]
  },
  {
   "cell_type": "code",
   "execution_count": 42,
   "metadata": {},
   "outputs": [],
   "source": [
    "\n",
    "path_to_dramsys = \"/home/luismendes/DRAMSys\"\n",
    "conv = Converter(path_to_dramsys)\n",
    "\n",
    "path_to_output_log_files = experiment_prefix + '_output_log'\n",
    "path_to_output_parsed_files = experiment_prefix + \"_output\"\n",
    "if not exists(path_to_output_log_files):\n",
    "  makedirs(path_to_output_log_files)\n",
    "\n",
    "if not exists(path_to_output_parsed_files):\n",
    "  makedirs(path_to_output_parsed_files)\n",
    "\n",
    "stl_filename = f\"{experiment_prefix}_trace_{app_name}_{experiment_state}.stl\"\n",
    "path_to_new_trace_file = join(conv.get_path('trc'), stl_filename)\n",
    "\n",
    "new_cfg_filename = f\"{experiment_prefix}_cfg_{app_name}_{experiment_state}.json\"\n",
    "path_to_new_cfg_file = join(conv.get_path('cfg'), new_cfg_filename)\n",
    "\n",
    "predicted_output_log = f\"{experiment_prefix}_cfg_{app_name}_{experiment_state}_log.txt\"\n",
    "path_to_predicted_output_log = join(path_to_output_log_files, predicted_output_log)\n",
    "\n",
    "iss_path = '/home/luismendes/zuse_ki_avf/vpro_sys_behavioral/TOOLS/VPRO/ISS/'\n",
    "app_path = join(iss_path,'apps/conv2d/')\n",
    "trace_relativ_path = \"build_release/main_mem.trace\"\n",
    "path_to_old_trace_file = join(app_path, trace_relativ_path)\n",
    "\n",
    "path_to_old_cfg_file = join(conv.get_path('cfg'), cfg_file)"
   ]
  },
  {
   "cell_type": "markdown",
   "metadata": {},
   "source": [
    "# Check of existance"
   ]
  },
  {
   "cell_type": "code",
   "execution_count": 43,
   "metadata": {},
   "outputs": [],
   "source": [
    "if exists(path_to_predicted_output_log):\n",
    "  raise Exception('File already exists, comment this line if want to force replace')"
   ]
  },
  {
   "cell_type": "markdown",
   "metadata": {},
   "source": [
    "# Conversion ISS format to DRAMSys format"
   ]
  },
  {
   "cell_type": "code",
   "execution_count": 44,
   "metadata": {},
   "outputs": [],
   "source": [
    "\n",
    "burst_length = conv.conv(\n",
    "  path_to_new_trace_file, \n",
    "  path_to_old_trace_file\n",
    ")\n",
    "\n",
    "conv.create_new_config_file(\n",
    "  path_to_old_cfg_file, \n",
    "  path_to_new_cfg_file, \n",
    "  path_to_new_trace_file, \n",
    "  burst_length, clkMhz\n",
    ")"
   ]
  },
  {
   "cell_type": "markdown",
   "metadata": {},
   "source": [
    "# DRAMSys simulation"
   ]
  },
  {
   "cell_type": "code",
   "execution_count": 45,
   "metadata": {},
   "outputs": [
    {
     "name": "stdout",
     "output_type": "stream",
     "text": [
      "Execution List:\n",
      "file: dcma00_cfg_conv2d_NR4LS1024AS4 - /home/luismendes/DRAMSys/configs/dcma00_cfg_conv2d_NR4LS1024AS4.json\n",
      "file: dcma00_cfg_conv2d_NR16LS1024AS4 - /home/luismendes/DRAMSys/configs/dcma00_cfg_conv2d_NR16LS1024AS4.json\n",
      "file: dcma00_cfg_conv2d_NR32LS1024AS4 - /home/luismendes/DRAMSys/configs/dcma00_cfg_conv2d_NR32LS1024AS4.json\n",
      "file: dcma00_cfg_conv2d_NR8LS1024AS4 - /home/luismendes/DRAMSys/configs/dcma00_cfg_conv2d_NR8LS1024AS4.json\n",
      "Executing now: dcma00_cfg_conv2d_NR4LS1024AS4\n",
      "Executing now: dcma00_cfg_conv2d_NR16LS1024AS4\n",
      "Executing now: dcma00_cfg_conv2d_NR32LS1024AS4\n",
      "Executing now: dcma00_cfg_conv2d_NR8LS1024AS4\n"
     ]
    }
   ],
   "source": [
    "\n",
    "dsys = Dramsys(path_to_dramsys, experiment_prefix)\n",
    "log_files_generated = dsys.run_simulation(output_dir=path_to_output_log_files)"
   ]
  },
  {
   "cell_type": "markdown",
   "metadata": {},
   "source": [
    "# DRAMSys Parsing"
   ]
  },
  {
   "cell_type": "code",
   "execution_count": 46,
   "metadata": {},
   "outputs": [
    {
     "name": "stdout",
     "output_type": "stream",
     "text": [
      "{'average_power': ['443.05'],\n",
      " 'avg_bw_GB': ['0.35'],\n",
      " 'avg_bw_Gb': ['2.82'],\n",
      " 'avg_bw_idle_GB': ['2.40'],\n",
      " 'avg_bw_idle_Gb': ['19.21'],\n",
      " 'avg_bw_idle_p': ['16.09'],\n",
      " 'avg_bw_p': ['2.36'],\n",
      " 'max_bw_GB': ['14.93'],\n",
      " 'max_bw_Gb': ['119.40'],\n",
      " 'max_bw_p': ['100.00'],\n",
      " 'simulation_time': ['0.738271'],\n",
      " 'total_energy': ['487455336.53'],\n",
      " 'total_time': ['1100209680'],\n",
      " 'unit_average_power': ['mW'],\n",
      " 'unit_avg_bw_GB': ['GB'],\n",
      " 'unit_avg_bw_Gb': ['Gb'],\n",
      " 'unit_avg_bw_idle_GB': ['GB'],\n",
      " 'unit_avg_bw_idle_Gb': ['Gb'],\n",
      " 'unit_max_bw_GB': ['GB'],\n",
      " 'unit_max_bw_Gb': ['Gb'],\n",
      " 'unit_total_energy': ['pJ'],\n",
      " 'unit_total_time': ['ps']}\n",
      "{'average_power': ['411.90'],\n",
      " 'avg_bw_GB': ['0.23'],\n",
      " 'avg_bw_Gb': ['1.86'],\n",
      " 'avg_bw_idle_GB': ['2.47'],\n",
      " 'avg_bw_idle_Gb': ['19.73'],\n",
      " 'avg_bw_idle_p': ['16.52'],\n",
      " 'avg_bw_p': ['1.56'],\n",
      " 'max_bw_GB': ['14.93'],\n",
      " 'max_bw_Gb': ['119.40'],\n",
      " 'max_bw_p': ['100.00'],\n",
      " 'simulation_time': ['0.141086'],\n",
      " 'total_energy': ['365610152.78'],\n",
      " 'total_time': ['887614928'],\n",
      " 'unit_average_power': ['mW'],\n",
      " 'unit_avg_bw_GB': ['GB'],\n",
      " 'unit_avg_bw_Gb': ['Gb'],\n",
      " 'unit_avg_bw_idle_GB': ['GB'],\n",
      " 'unit_avg_bw_idle_Gb': ['Gb'],\n",
      " 'unit_max_bw_GB': ['GB'],\n",
      " 'unit_max_bw_Gb': ['Gb'],\n",
      " 'unit_total_energy': ['pJ'],\n",
      " 'unit_total_time': ['ps']}\n",
      "{'average_power': ['410.64'],\n",
      " 'avg_bw_GB': ['0.23'],\n",
      " 'avg_bw_Gb': ['1.82'],\n",
      " 'avg_bw_idle_GB': ['2.51'],\n",
      " 'avg_bw_idle_Gb': ['20.05'],\n",
      " 'avg_bw_idle_p': ['16.79'],\n",
      " 'avg_bw_p': ['1.53'],\n",
      " 'max_bw_GB': ['14.93'],\n",
      " 'max_bw_Gb': ['119.40'],\n",
      " 'max_bw_p': ['100.00'],\n",
      " 'simulation_time': ['0.386463'],\n",
      " 'total_energy': ['371907546.46'],\n",
      " 'total_time': ['905656688'],\n",
      " 'unit_average_power': ['mW'],\n",
      " 'unit_avg_bw_GB': ['GB'],\n",
      " 'unit_avg_bw_Gb': ['Gb'],\n",
      " 'unit_avg_bw_idle_GB': ['GB'],\n",
      " 'unit_avg_bw_idle_Gb': ['Gb'],\n",
      " 'unit_max_bw_GB': ['GB'],\n",
      " 'unit_max_bw_Gb': ['Gb'],\n",
      " 'unit_total_energy': ['pJ'],\n",
      " 'unit_total_time': ['ps']}\n",
      "{'average_power': ['414.99'],\n",
      " 'avg_bw_GB': ['0.25'],\n",
      " 'avg_bw_Gb': ['1.98'],\n",
      " 'avg_bw_idle_GB': ['2.46'],\n",
      " 'avg_bw_idle_Gb': ['19.64'],\n",
      " 'avg_bw_idle_p': ['16.45'],\n",
      " 'avg_bw_p': ['1.66'],\n",
      " 'max_bw_GB': ['14.93'],\n",
      " 'max_bw_Gb': ['119.40'],\n",
      " 'max_bw_p': ['100.00'],\n",
      " 'simulation_time': ['0.565687'],\n",
      " 'total_energy': ['371386681.81'],\n",
      " 'total_time': ['894919536'],\n",
      " 'unit_average_power': ['mW'],\n",
      " 'unit_avg_bw_GB': ['GB'],\n",
      " 'unit_avg_bw_Gb': ['Gb'],\n",
      " 'unit_avg_bw_idle_GB': ['GB'],\n",
      " 'unit_avg_bw_idle_Gb': ['Gb'],\n",
      " 'unit_max_bw_GB': ['GB'],\n",
      " 'unit_max_bw_Gb': ['Gb'],\n",
      " 'unit_total_energy': ['pJ'],\n",
      " 'unit_total_time': ['ps']}\n"
     ]
    }
   ],
   "source": [
    "\n",
    "parser = Parser(True)\n",
    "for file in log_files_generated:\n",
    "  parser.parse_file(file, path_to_output_parsed_files)"
   ]
  }
 ],
 "metadata": {
  "kernelspec": {
   "display_name": "base",
   "language": "python",
   "name": "python3"
  },
  "language_info": {
   "codemirror_mode": {
    "name": "ipython",
    "version": 3
   },
   "file_extension": ".py",
   "mimetype": "text/x-python",
   "name": "python",
   "nbconvert_exporter": "python",
   "pygments_lexer": "ipython3",
   "version": "3.9.12"
  }
 },
 "nbformat": 4,
 "nbformat_minor": 2
}
