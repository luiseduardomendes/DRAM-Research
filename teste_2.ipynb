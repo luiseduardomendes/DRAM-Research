{
 "cells": [
  {
   "cell_type": "code",
   "execution_count": 2,
   "metadata": {},
   "outputs": [
    {
     "name": "stderr",
     "output_type": "stream",
     "text": [
      "/home/luismendes/DRAM/DRAM-Research/dramlib/scalesim/conversion.py:67: FutureWarning: DataFrame.applymap has been deprecated. Use DataFrame.map instead.\n",
      "  data = data.applymap(convert_to_int)\n",
      "/home/luismendes/DRAM/DRAM-Research/dramlib/scalesim/conversion.py:67: FutureWarning: DataFrame.applymap has been deprecated. Use DataFrame.map instead.\n",
      "  data = data.applymap(convert_to_int)\n",
      "/home/luismendes/DRAM/DRAM-Research/dramlib/scalesim/conversion.py:67: FutureWarning: DataFrame.applymap has been deprecated. Use DataFrame.map instead.\n",
      "  data = data.applymap(convert_to_int)\n"
     ]
    }
   ],
   "source": [
    "from dramlib.scalesim import Converter\n",
    "\n",
    "input_path = \"/home/luismendes/DRAM/DRAM-Research/yolo_tiny_Conv1_dram_copy/layer0\"\n",
    "network = \"yolo_tiny\"\n",
    "layer = \"Conv1\"\n",
    "config = \"GoogleTPU_os\"\n",
    "max_consecutive_data = 16\n",
    "\n",
    "converter = Converter()\n",
    "converter.to_dramsys(\n",
    "  input_path,\n",
    "  network,\n",
    "  layer,\n",
    "  config,\n",
    "  max_consecutive_data\n",
    ")"
   ]
  },
  {
   "cell_type": "code",
   "execution_count": null,
   "metadata": {},
   "outputs": [],
   "source": [
    "path = \"/home/luismendes/DRAM/SCALE-Sim/outputs\"\n",
    "converter.generate_input_path(path, config)"
   ]
  }
 ],
 "metadata": {
  "kernelspec": {
   "display_name": "scalesim",
   "language": "python",
   "name": "python3"
  },
  "language_info": {
   "codemirror_mode": {
    "name": "ipython",
    "version": 3
   },
   "file_extension": ".py",
   "mimetype": "text/x-python",
   "name": "python",
   "nbconvert_exporter": "python",
   "pygments_lexer": "ipython3",
   "version": "3.12.3"
  }
 },
 "nbformat": 4,
 "nbformat_minor": 2
}
